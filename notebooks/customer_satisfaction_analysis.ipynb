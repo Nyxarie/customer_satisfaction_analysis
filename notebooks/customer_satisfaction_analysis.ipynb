{
 "cells": [
  {
   "cell_type": "markdown",
   "metadata": {},
   "source": [
    "# Анализ удовлетворенности клиентов\n",
    "Цель - анализ уровня удовлетворенности клиентов на основе данных опроса.\n",
    "\n",
    "В данном проекте мы оценим удовлетворенность клиентов по различным характеристикам, включая уровень образования, возраст, пол и доход. Проанализируем влияние этих факторов на общий уровень удовлетворенности, а также исследуем сегменты клиентов в зависимости от их удовлетворенности."
   ]
  },
  {
   "cell_type": "code",
   "execution_count": 3,
   "metadata": {},
   "outputs": [],
   "source": [
    "import sqlite3\n",
    "import pandas as pd"
   ]
  },
  {
   "cell_type": "markdown",
   "metadata": {},
   "source": [
    "### Подключаем необходимые библиотеки, подключаемся к базе данных"
   ]
  },
  {
   "cell_type": "code",
   "execution_count": 5,
   "metadata": {},
   "outputs": [],
   "source": [
    "db = sqlite3.connect('../data/ACSI.db')"
   ]
  },
  {
   "cell_type": "markdown",
   "metadata": {},
   "source": [
    "### Формируем SQL запрос"
   ]
  },
  {
   "cell_type": "code",
   "execution_count": 6,
   "metadata": {},
   "outputs": [],
   "source": [
    "query = \"\"\"\n",
    "SELECT \n",
    "    CASE\n",
    "        WHEN SATIS <= 6 THEN 'Critics'\n",
    "        WHEN SATIS BETWEEN 7 AND 8 THEN 'Passives'\n",
    "        WHEN SATIS > 8 THEN 'Promoters'\n",
    "    END AS satisfaction_group,\n",
    "    CASE \n",
    "        WHEN age < 18 THEN 'Under 18'\n",
    "        WHEN age BETWEEN 18 AND 24 THEN '18-24'\n",
    "        WHEN age BETWEEN 25 AND 34 THEN '25-34'\n",
    "        WHEN age BETWEEN 35 AND 44 THEN '35-44'\n",
    "        WHEN age BETWEEN 45 AND 54 THEN '45-54'\n",
    "        WHEN age BETWEEN 55 AND 64 THEN '55-64'\n",
    "        ELSE '65+' \n",
    "    END AS age_group,\n",
    "    CASE \n",
    "        WHEN EDUCAT = 1 THEN 'Less than high school'\n",
    "        WHEN EDUCAT = 2 THEN 'High school'\n",
    "        WHEN EDUCAT = 3 THEN 'Some college or associate degree'\n",
    "        WHEN EDUCAT = 4 THEN 'College graduate'\n",
    "        WHEN EDUCAT = 5 THEN 'Post-graduate'\n",
    "    END AS education_level,\n",
    "    CASE \n",
    "        WHEN race_1 = 1 THEN 'White'\n",
    "        WHEN race_1 = 2 THEN 'African-American'\n",
    "        WHEN race_1 = 3 THEN 'American Indian/Alaskan Native'\n",
    "        WHEN race_1 = 4 THEN 'Asian'\n",
    "        WHEN race_1 = 5 THEN 'Native Hawaiian or Pacific Islander'\n",
    "        WHEN race_1 = 6 THEN 'Other Race'\n",
    "    END AS race,\n",
    "    CASE \n",
    "        WHEN income = 1 THEN 'Under $20K'\n",
    "        WHEN income = 2 THEN '$20K to $30K'\n",
    "        WHEN income = 3 THEN '$30K to $40K'\n",
    "        WHEN income = 4 THEN '$40K to $60K'\n",
    "        WHEN income = 5 THEN '$60K to $80K'\n",
    "        WHEN income = 6 THEN '$80K to $100K'\n",
    "        WHEN income = 7 THEN '$100K or More'\n",
    "    END AS income_level,\n",
    "    CASE \n",
    "        WHEN gender = 1 THEN 'Male'\n",
    "        WHEN gender = 2 THEN 'Female'\n",
    "    END AS gender\n",
    "FROM ACSI;\n",
    "\"\"\""
   ]
  },
  {
   "cell_type": "markdown",
   "metadata": {},
   "source": [
    "### Выполним SQL запрос"
   ]
  },
  {
   "cell_type": "code",
   "execution_count": 7,
   "metadata": {},
   "outputs": [
    {
     "data": {
      "text/html": [
       "<div>\n",
       "<style scoped>\n",
       "    .dataframe tbody tr th:only-of-type {\n",
       "        vertical-align: middle;\n",
       "    }\n",
       "\n",
       "    .dataframe tbody tr th {\n",
       "        vertical-align: top;\n",
       "    }\n",
       "\n",
       "    .dataframe thead th {\n",
       "        text-align: right;\n",
       "    }\n",
       "</style>\n",
       "<table border=\"1\" class=\"dataframe\">\n",
       "  <thead>\n",
       "    <tr style=\"text-align: right;\">\n",
       "      <th></th>\n",
       "      <th>satisfaction_group</th>\n",
       "      <th>age_group</th>\n",
       "      <th>education_level</th>\n",
       "      <th>race</th>\n",
       "      <th>income_level</th>\n",
       "      <th>gender</th>\n",
       "    </tr>\n",
       "  </thead>\n",
       "  <tbody>\n",
       "    <tr>\n",
       "      <th>0</th>\n",
       "      <td>Promoters</td>\n",
       "      <td>65+</td>\n",
       "      <td>College graduate</td>\n",
       "      <td>White</td>\n",
       "      <td>$100K or More</td>\n",
       "      <td>Male</td>\n",
       "    </tr>\n",
       "    <tr>\n",
       "      <th>1</th>\n",
       "      <td>Passives</td>\n",
       "      <td>25-34</td>\n",
       "      <td>College graduate</td>\n",
       "      <td>White</td>\n",
       "      <td>Under $20K</td>\n",
       "      <td>Female</td>\n",
       "    </tr>\n",
       "    <tr>\n",
       "      <th>2</th>\n",
       "      <td>Passives</td>\n",
       "      <td>45-54</td>\n",
       "      <td>College graduate</td>\n",
       "      <td>White</td>\n",
       "      <td>None</td>\n",
       "      <td>Female</td>\n",
       "    </tr>\n",
       "    <tr>\n",
       "      <th>3</th>\n",
       "      <td>Passives</td>\n",
       "      <td>25-34</td>\n",
       "      <td>Post-graduate</td>\n",
       "      <td>Asian</td>\n",
       "      <td>$60K to $80K</td>\n",
       "      <td>Female</td>\n",
       "    </tr>\n",
       "    <tr>\n",
       "      <th>4</th>\n",
       "      <td>Promoters</td>\n",
       "      <td>18-24</td>\n",
       "      <td>Some college or associate degree</td>\n",
       "      <td>African-American</td>\n",
       "      <td>$40K to $60K</td>\n",
       "      <td>Male</td>\n",
       "    </tr>\n",
       "    <tr>\n",
       "      <th>...</th>\n",
       "      <td>...</td>\n",
       "      <td>...</td>\n",
       "      <td>...</td>\n",
       "      <td>...</td>\n",
       "      <td>...</td>\n",
       "      <td>...</td>\n",
       "    </tr>\n",
       "    <tr>\n",
       "      <th>8234</th>\n",
       "      <td>Passives</td>\n",
       "      <td>25-34</td>\n",
       "      <td>Less than high school</td>\n",
       "      <td>White</td>\n",
       "      <td>$20K to $30K</td>\n",
       "      <td>Female</td>\n",
       "    </tr>\n",
       "    <tr>\n",
       "      <th>8235</th>\n",
       "      <td>Critics</td>\n",
       "      <td>55-64</td>\n",
       "      <td>Post-graduate</td>\n",
       "      <td>White</td>\n",
       "      <td>$40K to $60K</td>\n",
       "      <td>Female</td>\n",
       "    </tr>\n",
       "    <tr>\n",
       "      <th>8236</th>\n",
       "      <td>Critics</td>\n",
       "      <td>35-44</td>\n",
       "      <td>Some college or associate degree</td>\n",
       "      <td>White</td>\n",
       "      <td>Under $20K</td>\n",
       "      <td>Female</td>\n",
       "    </tr>\n",
       "    <tr>\n",
       "      <th>8237</th>\n",
       "      <td>Critics</td>\n",
       "      <td>55-64</td>\n",
       "      <td>Some college or associate degree</td>\n",
       "      <td>White</td>\n",
       "      <td>$60K to $80K</td>\n",
       "      <td>Female</td>\n",
       "    </tr>\n",
       "    <tr>\n",
       "      <th>8238</th>\n",
       "      <td>Critics</td>\n",
       "      <td>25-34</td>\n",
       "      <td>High school</td>\n",
       "      <td>White</td>\n",
       "      <td>$30K to $40K</td>\n",
       "      <td>Female</td>\n",
       "    </tr>\n",
       "  </tbody>\n",
       "</table>\n",
       "<p>8239 rows × 6 columns</p>\n",
       "</div>"
      ],
      "text/plain": [
       "     satisfaction_group age_group                   education_level  \\\n",
       "0             Promoters       65+                  College graduate   \n",
       "1              Passives     25-34                  College graduate   \n",
       "2              Passives     45-54                  College graduate   \n",
       "3              Passives     25-34                     Post-graduate   \n",
       "4             Promoters     18-24  Some college or associate degree   \n",
       "...                 ...       ...                               ...   \n",
       "8234           Passives     25-34             Less than high school   \n",
       "8235            Critics     55-64                     Post-graduate   \n",
       "8236            Critics     35-44  Some college or associate degree   \n",
       "8237            Critics     55-64  Some college or associate degree   \n",
       "8238            Critics     25-34                       High school   \n",
       "\n",
       "                  race   income_level  gender  \n",
       "0                White  $100K or More    Male  \n",
       "1                White     Under $20K  Female  \n",
       "2                White           None  Female  \n",
       "3                Asian   $60K to $80K  Female  \n",
       "4     African-American   $40K to $60K    Male  \n",
       "...                ...            ...     ...  \n",
       "8234             White   $20K to $30K  Female  \n",
       "8235             White   $40K to $60K  Female  \n",
       "8236             White     Under $20K  Female  \n",
       "8237             White   $60K to $80K  Female  \n",
       "8238             White   $30K to $40K  Female  \n",
       "\n",
       "[8239 rows x 6 columns]"
      ]
     },
     "execution_count": 7,
     "metadata": {},
     "output_type": "execute_result"
    }
   ],
   "source": [
    "df = pd.read_sql(query, db)\n",
    "df"
   ]
  },
  {
   "cell_type": "markdown",
   "metadata": {},
   "source": [
    "### Сохраним полученную таблицу в csv файл"
   ]
  },
  {
   "cell_type": "code",
   "execution_count": 8,
   "metadata": {},
   "outputs": [],
   "source": [
    "df.to_csv('../data/acsi_data.csv', index=False)"
   ]
  },
  {
   "cell_type": "markdown",
   "metadata": {},
   "source": [
    "# Вывод\n",
    "В данном файле мы извлекли с помощью SQL-запроса нужные нам данные, а также преобразовали их и сформировали таблицу с категоризациями по уровням удовлетворенности клиентов. \n",
    "\n",
    "В результате мы получили очищенные данные, которые были сохранены в CSV файл для дальнейшего анализа. Эти данные будут использованы для визуализаций и создания дашборда, а также для подготовки презентации с основными выводами."
   ]
  }
 ],
 "metadata": {
  "kernelspec": {
   "display_name": "Python 3",
   "language": "python",
   "name": "python3"
  },
  "language_info": {
   "codemirror_mode": {
    "name": "ipython",
    "version": 3
   },
   "file_extension": ".py",
   "mimetype": "text/x-python",
   "name": "python",
   "nbconvert_exporter": "python",
   "pygments_lexer": "ipython3",
   "version": "3.13.0"
  }
 },
 "nbformat": 4,
 "nbformat_minor": 2
}
